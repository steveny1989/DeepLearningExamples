{
  "nbformat": 4,
  "nbformat_minor": 0,
  "metadata": {
    "colab": {
      "provenance": [],
      "authorship_tag": "ABX9TyMdUkZfZJ/qFagQeQR8pMty",
      "include_colab_link": true
    },
    "kernelspec": {
      "name": "python3",
      "display_name": "Python 3"
    },
    "language_info": {
      "name": "python"
    },
    "accelerator": "GPU",
    "gpuClass": "standard",
    "widgets": {
      "application/vnd.jupyter.widget-state+json": {
        "5858849deb154a4bacda11f268fe708b": {
          "model_module": "@jupyter-widgets/controls",
          "model_name": "HBoxModel",
          "model_module_version": "1.5.0",
          "state": {
            "_dom_classes": [],
            "_model_module": "@jupyter-widgets/controls",
            "_model_module_version": "1.5.0",
            "_model_name": "HBoxModel",
            "_view_count": null,
            "_view_module": "@jupyter-widgets/controls",
            "_view_module_version": "1.5.0",
            "_view_name": "HBoxView",
            "box_style": "",
            "children": [
              "IPY_MODEL_085022eeca4a4d1d8a4b700ebb36d9b6",
              "IPY_MODEL_fc7dc044898d4ecb9ed18650bbb03b9d",
              "IPY_MODEL_10191b2e1ae74e7ab21bcbb68920f5ac"
            ],
            "layout": "IPY_MODEL_627485e394824ebab906d4c6a007de53"
          }
        },
        "085022eeca4a4d1d8a4b700ebb36d9b6": {
          "model_module": "@jupyter-widgets/controls",
          "model_name": "HTMLModel",
          "model_module_version": "1.5.0",
          "state": {
            "_dom_classes": [],
            "_model_module": "@jupyter-widgets/controls",
            "_model_module_version": "1.5.0",
            "_model_name": "HTMLModel",
            "_view_count": null,
            "_view_module": "@jupyter-widgets/controls",
            "_view_module_version": "1.5.0",
            "_view_name": "HTMLView",
            "description": "",
            "description_tooltip": null,
            "layout": "IPY_MODEL_af07fc333f6645df84bd1e46d623f38f",
            "placeholder": "​",
            "style": "IPY_MODEL_bb334907991c4fdcb4b1e2acb687afe7",
            "value": "Downloading: 100%"
          }
        },
        "fc7dc044898d4ecb9ed18650bbb03b9d": {
          "model_module": "@jupyter-widgets/controls",
          "model_name": "FloatProgressModel",
          "model_module_version": "1.5.0",
          "state": {
            "_dom_classes": [],
            "_model_module": "@jupyter-widgets/controls",
            "_model_module_version": "1.5.0",
            "_model_name": "FloatProgressModel",
            "_view_count": null,
            "_view_module": "@jupyter-widgets/controls",
            "_view_module_version": "1.5.0",
            "_view_name": "ProgressView",
            "bar_style": "success",
            "description": "",
            "description_tooltip": null,
            "layout": "IPY_MODEL_78ae6deccc464762ae6afaeebbaf63c6",
            "max": 420921295,
            "min": 0,
            "orientation": "horizontal",
            "style": "IPY_MODEL_ef19a62c432c45e3aa26ff55fcce1e10",
            "value": 420921295
          }
        },
        "10191b2e1ae74e7ab21bcbb68920f5ac": {
          "model_module": "@jupyter-widgets/controls",
          "model_name": "HTMLModel",
          "model_module_version": "1.5.0",
          "state": {
            "_dom_classes": [],
            "_model_module": "@jupyter-widgets/controls",
            "_model_module_version": "1.5.0",
            "_model_name": "HTMLModel",
            "_view_count": null,
            "_view_module": "@jupyter-widgets/controls",
            "_view_module_version": "1.5.0",
            "_view_name": "HTMLView",
            "description": "",
            "description_tooltip": null,
            "layout": "IPY_MODEL_03a297fc8a7242259bce402bbf5ecc35",
            "placeholder": "​",
            "style": "IPY_MODEL_19b72432ed7a47db9516601bc710f9f9",
            "value": " 421M/421M [00:24&lt;00:00, 18.3MB/s]"
          }
        },
        "627485e394824ebab906d4c6a007de53": {
          "model_module": "@jupyter-widgets/base",
          "model_name": "LayoutModel",
          "model_module_version": "1.2.0",
          "state": {
            "_model_module": "@jupyter-widgets/base",
            "_model_module_version": "1.2.0",
            "_model_name": "LayoutModel",
            "_view_count": null,
            "_view_module": "@jupyter-widgets/base",
            "_view_module_version": "1.2.0",
            "_view_name": "LayoutView",
            "align_content": null,
            "align_items": null,
            "align_self": null,
            "border": null,
            "bottom": null,
            "display": null,
            "flex": null,
            "flex_flow": null,
            "grid_area": null,
            "grid_auto_columns": null,
            "grid_auto_flow": null,
            "grid_auto_rows": null,
            "grid_column": null,
            "grid_gap": null,
            "grid_row": null,
            "grid_template_areas": null,
            "grid_template_columns": null,
            "grid_template_rows": null,
            "height": null,
            "justify_content": null,
            "justify_items": null,
            "left": null,
            "margin": null,
            "max_height": null,
            "max_width": null,
            "min_height": null,
            "min_width": null,
            "object_fit": null,
            "object_position": null,
            "order": null,
            "overflow": null,
            "overflow_x": null,
            "overflow_y": null,
            "padding": null,
            "right": null,
            "top": null,
            "visibility": null,
            "width": null
          }
        },
        "af07fc333f6645df84bd1e46d623f38f": {
          "model_module": "@jupyter-widgets/base",
          "model_name": "LayoutModel",
          "model_module_version": "1.2.0",
          "state": {
            "_model_module": "@jupyter-widgets/base",
            "_model_module_version": "1.2.0",
            "_model_name": "LayoutModel",
            "_view_count": null,
            "_view_module": "@jupyter-widgets/base",
            "_view_module_version": "1.2.0",
            "_view_name": "LayoutView",
            "align_content": null,
            "align_items": null,
            "align_self": null,
            "border": null,
            "bottom": null,
            "display": null,
            "flex": null,
            "flex_flow": null,
            "grid_area": null,
            "grid_auto_columns": null,
            "grid_auto_flow": null,
            "grid_auto_rows": null,
            "grid_column": null,
            "grid_gap": null,
            "grid_row": null,
            "grid_template_areas": null,
            "grid_template_columns": null,
            "grid_template_rows": null,
            "height": null,
            "justify_content": null,
            "justify_items": null,
            "left": null,
            "margin": null,
            "max_height": null,
            "max_width": null,
            "min_height": null,
            "min_width": null,
            "object_fit": null,
            "object_position": null,
            "order": null,
            "overflow": null,
            "overflow_x": null,
            "overflow_y": null,
            "padding": null,
            "right": null,
            "top": null,
            "visibility": null,
            "width": null
          }
        },
        "bb334907991c4fdcb4b1e2acb687afe7": {
          "model_module": "@jupyter-widgets/controls",
          "model_name": "DescriptionStyleModel",
          "model_module_version": "1.5.0",
          "state": {
            "_model_module": "@jupyter-widgets/controls",
            "_model_module_version": "1.5.0",
            "_model_name": "DescriptionStyleModel",
            "_view_count": null,
            "_view_module": "@jupyter-widgets/base",
            "_view_module_version": "1.2.0",
            "_view_name": "StyleView",
            "description_width": ""
          }
        },
        "78ae6deccc464762ae6afaeebbaf63c6": {
          "model_module": "@jupyter-widgets/base",
          "model_name": "LayoutModel",
          "model_module_version": "1.2.0",
          "state": {
            "_model_module": "@jupyter-widgets/base",
            "_model_module_version": "1.2.0",
            "_model_name": "LayoutModel",
            "_view_count": null,
            "_view_module": "@jupyter-widgets/base",
            "_view_module_version": "1.2.0",
            "_view_name": "LayoutView",
            "align_content": null,
            "align_items": null,
            "align_self": null,
            "border": null,
            "bottom": null,
            "display": null,
            "flex": null,
            "flex_flow": null,
            "grid_area": null,
            "grid_auto_columns": null,
            "grid_auto_flow": null,
            "grid_auto_rows": null,
            "grid_column": null,
            "grid_gap": null,
            "grid_row": null,
            "grid_template_areas": null,
            "grid_template_columns": null,
            "grid_template_rows": null,
            "height": null,
            "justify_content": null,
            "justify_items": null,
            "left": null,
            "margin": null,
            "max_height": null,
            "max_width": null,
            "min_height": null,
            "min_width": null,
            "object_fit": null,
            "object_position": null,
            "order": null,
            "overflow": null,
            "overflow_x": null,
            "overflow_y": null,
            "padding": null,
            "right": null,
            "top": null,
            "visibility": null,
            "width": null
          }
        },
        "ef19a62c432c45e3aa26ff55fcce1e10": {
          "model_module": "@jupyter-widgets/controls",
          "model_name": "ProgressStyleModel",
          "model_module_version": "1.5.0",
          "state": {
            "_model_module": "@jupyter-widgets/controls",
            "_model_module_version": "1.5.0",
            "_model_name": "ProgressStyleModel",
            "_view_count": null,
            "_view_module": "@jupyter-widgets/base",
            "_view_module_version": "1.2.0",
            "_view_name": "StyleView",
            "bar_color": null,
            "description_width": ""
          }
        },
        "03a297fc8a7242259bce402bbf5ecc35": {
          "model_module": "@jupyter-widgets/base",
          "model_name": "LayoutModel",
          "model_module_version": "1.2.0",
          "state": {
            "_model_module": "@jupyter-widgets/base",
            "_model_module_version": "1.2.0",
            "_model_name": "LayoutModel",
            "_view_count": null,
            "_view_module": "@jupyter-widgets/base",
            "_view_module_version": "1.2.0",
            "_view_name": "LayoutView",
            "align_content": null,
            "align_items": null,
            "align_self": null,
            "border": null,
            "bottom": null,
            "display": null,
            "flex": null,
            "flex_flow": null,
            "grid_area": null,
            "grid_auto_columns": null,
            "grid_auto_flow": null,
            "grid_auto_rows": null,
            "grid_column": null,
            "grid_gap": null,
            "grid_row": null,
            "grid_template_areas": null,
            "grid_template_columns": null,
            "grid_template_rows": null,
            "height": null,
            "justify_content": null,
            "justify_items": null,
            "left": null,
            "margin": null,
            "max_height": null,
            "max_width": null,
            "min_height": null,
            "min_width": null,
            "object_fit": null,
            "object_position": null,
            "order": null,
            "overflow": null,
            "overflow_x": null,
            "overflow_y": null,
            "padding": null,
            "right": null,
            "top": null,
            "visibility": null,
            "width": null
          }
        },
        "19b72432ed7a47db9516601bc710f9f9": {
          "model_module": "@jupyter-widgets/controls",
          "model_name": "DescriptionStyleModel",
          "model_module_version": "1.5.0",
          "state": {
            "_model_module": "@jupyter-widgets/controls",
            "_model_module_version": "1.5.0",
            "_model_name": "DescriptionStyleModel",
            "_view_count": null,
            "_view_module": "@jupyter-widgets/base",
            "_view_module_version": "1.2.0",
            "_view_name": "StyleView",
            "description_width": ""
          }
        }
      }
    }
  },
  "cells": [
    {
      "cell_type": "markdown",
      "metadata": {
        "id": "view-in-github",
        "colab_type": "text"
      },
      "source": [
        "<a href=\"https://colab.research.google.com/github/steveny1989/DeepLearningExamples/blob/master/poem_generator.ipynb\" target=\"_parent\"><img src=\"https://colab.research.google.com/assets/colab-badge.svg\" alt=\"Open In Colab\"/></a>"
      ]
    },
    {
      "cell_type": "code",
      "execution_count": null,
      "metadata": {
        "colab": {
          "base_uri": "https://localhost:8080/"
        },
        "id": "3q05Hz5pDSOJ",
        "outputId": "af3af8e9-a9e0-472e-d899-42705a476171"
      },
      "outputs": [
        {
          "output_type": "stream",
          "name": "stdout",
          "text": [
            "Looking in indexes: https://pypi.org/simple, https://us-python.pkg.dev/colab-wheels/public/simple/\n",
            "Requirement already satisfied: transformers in /usr/local/lib/python3.8/dist-packages (4.25.1)\n",
            "Requirement already satisfied: pyyaml>=5.1 in /usr/local/lib/python3.8/dist-packages (from transformers) (6.0)\n",
            "Requirement already satisfied: tokenizers!=0.11.3,<0.14,>=0.11.1 in /usr/local/lib/python3.8/dist-packages (from transformers) (0.13.2)\n",
            "Requirement already satisfied: packaging>=20.0 in /usr/local/lib/python3.8/dist-packages (from transformers) (21.3)\n",
            "Requirement already satisfied: filelock in /usr/local/lib/python3.8/dist-packages (from transformers) (3.9.0)\n",
            "Requirement already satisfied: tqdm>=4.27 in /usr/local/lib/python3.8/dist-packages (from transformers) (4.64.1)\n",
            "Requirement already satisfied: huggingface-hub<1.0,>=0.10.0 in /usr/local/lib/python3.8/dist-packages (from transformers) (0.11.1)\n",
            "Requirement already satisfied: numpy>=1.17 in /usr/local/lib/python3.8/dist-packages (from transformers) (1.21.6)\n",
            "Requirement already satisfied: requests in /usr/local/lib/python3.8/dist-packages (from transformers) (2.25.1)\n",
            "Requirement already satisfied: regex!=2019.12.17 in /usr/local/lib/python3.8/dist-packages (from transformers) (2022.6.2)\n",
            "Requirement already satisfied: typing-extensions>=3.7.4.3 in /usr/local/lib/python3.8/dist-packages (from huggingface-hub<1.0,>=0.10.0->transformers) (4.4.0)\n",
            "Requirement already satisfied: pyparsing!=3.0.5,>=2.0.2 in /usr/local/lib/python3.8/dist-packages (from packaging>=20.0->transformers) (3.0.9)\n",
            "Requirement already satisfied: certifi>=2017.4.17 in /usr/local/lib/python3.8/dist-packages (from requests->transformers) (2022.12.7)\n",
            "Requirement already satisfied: urllib3<1.27,>=1.21.1 in /usr/local/lib/python3.8/dist-packages (from requests->transformers) (1.24.3)\n",
            "Requirement already satisfied: idna<3,>=2.5 in /usr/local/lib/python3.8/dist-packages (from requests->transformers) (2.10)\n",
            "Requirement already satisfied: chardet<5,>=3.0.2 in /usr/local/lib/python3.8/dist-packages (from requests->transformers) (4.0.0)\n"
          ]
        }
      ],
      "source": [
        "!pip install transformers\n"
      ]
    },
    {
      "cell_type": "code",
      "source": [
        "from transformers import AutoTokenizer\n",
        "\n",
        "#加载编码器\n",
        "tokenizer = AutoTokenizer.from_pretrained('uer/gpt2-chinese-cluecorpussmall')\n",
        "\n",
        "print(tokenizer)"
      ],
      "metadata": {
        "colab": {
          "base_uri": "https://localhost:8080/"
        },
        "id": "ksEOnbMMEHgG",
        "outputId": "94c98e03-710c-49dc-aba0-57dbbadd7d3c"
      },
      "execution_count": null,
      "outputs": [
        {
          "output_type": "stream",
          "name": "stdout",
          "text": [
            "PreTrainedTokenizerFast(name_or_path='uer/gpt2-chinese-cluecorpussmall', vocab_size=21128, model_max_len=1024, is_fast=True, padding_side='right', truncation_side='right', special_tokens={'unk_token': '[UNK]', 'sep_token': '[SEP]', 'pad_token': '[PAD]', 'cls_token': '[CLS]', 'mask_token': '[MASK]'})\n"
          ]
        }
      ]
    },
    {
      "cell_type": "code",
      "source": [
        "tokenizer.batch_encode_plus([\n",
        "    '床前明月光，疑是地上霜。'\n",
        "])"
      ],
      "metadata": {
        "colab": {
          "base_uri": "https://localhost:8080/"
        },
        "id": "p7W4_vOgEP4V",
        "outputId": "b6e8a540-93d6-481e-c3a0-5ed5f9015a2c"
      },
      "execution_count": null,
      "outputs": [
        {
          "output_type": "execute_result",
          "data": {
            "text/plain": [
              "{'input_ids': [[101, 2414, 1184, 3209, 3299, 1045, 8024, 4542, 3221, 1765, 677, 7458, 511, 102]], 'token_type_ids': [[0, 0, 0, 0, 0, 0, 0, 0, 0, 0, 0, 0, 0, 0]], 'attention_mask': [[1, 1, 1, 1, 1, 1, 1, 1, 1, 1, 1, 1, 1, 1]]}"
            ]
          },
          "metadata": {},
          "execution_count": 13
        }
      ]
    },
    {
      "cell_type": "code",
      "source": [
        "!pip install torch"
      ],
      "metadata": {
        "colab": {
          "base_uri": "https://localhost:8080/"
        },
        "id": "y8s69tuSXr-P",
        "outputId": "7a49d36c-3375-4b59-b175-8e0093046a0d"
      },
      "execution_count": null,
      "outputs": [
        {
          "output_type": "stream",
          "name": "stdout",
          "text": [
            "Looking in indexes: https://pypi.org/simple, https://us-python.pkg.dev/colab-wheels/public/simple/\n",
            "Requirement already satisfied: torch in /usr/local/lib/python3.8/dist-packages (1.13.1+cu116)\n",
            "Requirement already satisfied: typing-extensions in /usr/local/lib/python3.8/dist-packages (from torch) (4.4.0)\n"
          ]
        }
      ]
    },
    {
      "cell_type": "code",
      "source": [
        "import torch\n",
        "#简单数据集\n",
        "class Dataset(torch.utils.data.Dataset):\n",
        "\n",
        "    def __init__(self):\n",
        "        with open('libai.txt') as f:\n",
        "            lines = f.readlines()\n",
        "        lines = [i.strip() for i in lines]\n",
        "\n",
        "        self.lines = lines\n",
        "\n",
        "    def __len__(self):\n",
        "        return len(self.lines)\n",
        "\n",
        "    def __getitem__(self, i):\n",
        "        return self.lines[i]\n",
        "\n",
        "        \n",
        "dataset = Dataset()\n",
        "\n",
        "len(dataset), dataset[4]"
      ],
      "metadata": {
        "colab": {
          "base_uri": "https://localhost:8080/"
        },
        "id": "9bN4TwncYAkM",
        "outputId": "fe587199-9db9-4933-cdf8-28e15c442522"
      },
      "execution_count": null,
      "outputs": [
        {
          "output_type": "execute_result",
          "data": {
            "text/plain": [
              "(5501, '自从建安来，绮丽不足珍。圣代复元古，垂衣贵清真。')"
            ]
          },
          "metadata": {},
          "execution_count": 17
        }
      ]
    },
    {
      "cell_type": "code",
      "source": [
        "import torch\n",
        "import os\n",
        "import pandas as pd"
      ],
      "metadata": {
        "id": "htqsfOgRZ5eU"
      },
      "execution_count": null,
      "outputs": []
    },
    {
      "cell_type": "code",
      "source": [
        "#更多数据数据集\n",
        "class Dataset(torch.utils.data.Dataset):\n",
        "\n",
        "    def __init__(self):\n",
        "        data = []\n",
        "\n",
        "        data.append(pd.read_csv('唐.csv'))\n",
        "\n",
        "        data = pd.concat(data).reset_index()\n",
        "\n",
        "        data = data['内容']\n",
        "\n",
        "        data = data.str.strip()\n",
        "\n",
        "        #移除一些标点符号\n",
        "        data = data.str.replace('[《》“”「」]', '', regex=True)\n",
        "\n",
        "        #正则过滤\n",
        "        select = data.str.match('^[\\w，。？、！：；]+$', na=False)\n",
        "        data = data[select]\n",
        "\n",
        "        #标点符号合并\n",
        "        data = data.str.replace('[？！；]', '。', regex=True)\n",
        "        data = data.str.replace('[、：]', '，', regex=True)\n",
        "\n",
        "        self.data = data\n",
        "\n",
        "    def __len__(self):\n",
        "        return len(self.data)\n",
        "\n",
        "    def __getitem__(self, i):\n",
        "        return self.data.iloc[i]\n",
        "\n",
        "\n",
        "dataset = Dataset()\n",
        "\n",
        "len(dataset), dataset[0]"
      ],
      "metadata": {
        "colab": {
          "base_uri": "https://localhost:8080/",
          "height": 318
        },
        "id": "PvNJUrkDZ_W_",
        "outputId": "fee9e8f5-5ac9-40bc-d781-beabe7e8f9b7"
      },
      "execution_count": null,
      "outputs": [
        {
          "output_type": "error",
          "ename": "UnicodeDecodeError",
          "evalue": "ignored",
          "traceback": [
            "\u001b[0;31m---------------------------------------------------------------------------\u001b[0m",
            "\u001b[0;31mUnicodeDecodeError\u001b[0m                        Traceback (most recent call last)",
            "\u001b[0;32m<ipython-input-21-f02bc45d4fb2>\u001b[0m in \u001b[0;36m<module>\u001b[0;34m\u001b[0m\n\u001b[1;32m     33\u001b[0m \u001b[0;34m\u001b[0m\u001b[0m\n\u001b[1;32m     34\u001b[0m \u001b[0;34m\u001b[0m\u001b[0m\n\u001b[0;32m---> 35\u001b[0;31m \u001b[0mdataset\u001b[0m \u001b[0;34m=\u001b[0m \u001b[0mDataset\u001b[0m\u001b[0;34m(\u001b[0m\u001b[0;34m)\u001b[0m\u001b[0;34m\u001b[0m\u001b[0;34m\u001b[0m\u001b[0m\n\u001b[0m\u001b[1;32m     36\u001b[0m \u001b[0;34m\u001b[0m\u001b[0m\n\u001b[1;32m     37\u001b[0m \u001b[0mlen\u001b[0m\u001b[0;34m(\u001b[0m\u001b[0mdataset\u001b[0m\u001b[0;34m)\u001b[0m\u001b[0;34m,\u001b[0m \u001b[0mdataset\u001b[0m\u001b[0;34m[\u001b[0m\u001b[0;36m0\u001b[0m\u001b[0;34m]\u001b[0m\u001b[0;34m\u001b[0m\u001b[0;34m\u001b[0m\u001b[0m\n",
            "\u001b[0;32m<ipython-input-21-f02bc45d4fb2>\u001b[0m in \u001b[0;36m__init__\u001b[0;34m(self)\u001b[0m\n\u001b[1;32m      5\u001b[0m         \u001b[0mdata\u001b[0m \u001b[0;34m=\u001b[0m \u001b[0;34m[\u001b[0m\u001b[0;34m]\u001b[0m\u001b[0;34m\u001b[0m\u001b[0;34m\u001b[0m\u001b[0m\n\u001b[1;32m      6\u001b[0m \u001b[0;34m\u001b[0m\u001b[0m\n\u001b[0;32m----> 7\u001b[0;31m         \u001b[0mdata\u001b[0m\u001b[0;34m.\u001b[0m\u001b[0mappend\u001b[0m\u001b[0;34m(\u001b[0m\u001b[0mpd\u001b[0m\u001b[0;34m.\u001b[0m\u001b[0mread_csv\u001b[0m\u001b[0;34m(\u001b[0m\u001b[0;34m'唐.csv'\u001b[0m\u001b[0;34m)\u001b[0m\u001b[0;34m)\u001b[0m\u001b[0;34m\u001b[0m\u001b[0;34m\u001b[0m\u001b[0m\n\u001b[0m\u001b[1;32m      8\u001b[0m \u001b[0;34m\u001b[0m\u001b[0m\n\u001b[1;32m      9\u001b[0m         \u001b[0mdata\u001b[0m \u001b[0;34m=\u001b[0m \u001b[0mpd\u001b[0m\u001b[0;34m.\u001b[0m\u001b[0mconcat\u001b[0m\u001b[0;34m(\u001b[0m\u001b[0mdata\u001b[0m\u001b[0;34m)\u001b[0m\u001b[0;34m.\u001b[0m\u001b[0mreset_index\u001b[0m\u001b[0;34m(\u001b[0m\u001b[0;34m)\u001b[0m\u001b[0;34m\u001b[0m\u001b[0;34m\u001b[0m\u001b[0m\n",
            "\u001b[0;32m/usr/local/lib/python3.8/dist-packages/pandas/util/_decorators.py\u001b[0m in \u001b[0;36mwrapper\u001b[0;34m(*args, **kwargs)\u001b[0m\n\u001b[1;32m    309\u001b[0m                     \u001b[0mstacklevel\u001b[0m\u001b[0;34m=\u001b[0m\u001b[0mstacklevel\u001b[0m\u001b[0;34m,\u001b[0m\u001b[0;34m\u001b[0m\u001b[0;34m\u001b[0m\u001b[0m\n\u001b[1;32m    310\u001b[0m                 )\n\u001b[0;32m--> 311\u001b[0;31m             \u001b[0;32mreturn\u001b[0m \u001b[0mfunc\u001b[0m\u001b[0;34m(\u001b[0m\u001b[0;34m*\u001b[0m\u001b[0margs\u001b[0m\u001b[0;34m,\u001b[0m \u001b[0;34m**\u001b[0m\u001b[0mkwargs\u001b[0m\u001b[0;34m)\u001b[0m\u001b[0;34m\u001b[0m\u001b[0;34m\u001b[0m\u001b[0m\n\u001b[0m\u001b[1;32m    312\u001b[0m \u001b[0;34m\u001b[0m\u001b[0m\n\u001b[1;32m    313\u001b[0m         \u001b[0;32mreturn\u001b[0m \u001b[0mwrapper\u001b[0m\u001b[0;34m\u001b[0m\u001b[0;34m\u001b[0m\u001b[0m\n",
            "\u001b[0;32m/usr/local/lib/python3.8/dist-packages/pandas/io/parsers/readers.py\u001b[0m in \u001b[0;36mread_csv\u001b[0;34m(filepath_or_buffer, sep, delimiter, header, names, index_col, usecols, squeeze, prefix, mangle_dupe_cols, dtype, engine, converters, true_values, false_values, skipinitialspace, skiprows, skipfooter, nrows, na_values, keep_default_na, na_filter, verbose, skip_blank_lines, parse_dates, infer_datetime_format, keep_date_col, date_parser, dayfirst, cache_dates, iterator, chunksize, compression, thousands, decimal, lineterminator, quotechar, quoting, doublequote, escapechar, comment, encoding, encoding_errors, dialect, error_bad_lines, warn_bad_lines, on_bad_lines, delim_whitespace, low_memory, memory_map, float_precision, storage_options)\u001b[0m\n\u001b[1;32m    584\u001b[0m     \u001b[0mkwds\u001b[0m\u001b[0;34m.\u001b[0m\u001b[0mupdate\u001b[0m\u001b[0;34m(\u001b[0m\u001b[0mkwds_defaults\u001b[0m\u001b[0;34m)\u001b[0m\u001b[0;34m\u001b[0m\u001b[0;34m\u001b[0m\u001b[0m\n\u001b[1;32m    585\u001b[0m \u001b[0;34m\u001b[0m\u001b[0m\n\u001b[0;32m--> 586\u001b[0;31m     \u001b[0;32mreturn\u001b[0m \u001b[0m_read\u001b[0m\u001b[0;34m(\u001b[0m\u001b[0mfilepath_or_buffer\u001b[0m\u001b[0;34m,\u001b[0m \u001b[0mkwds\u001b[0m\u001b[0;34m)\u001b[0m\u001b[0;34m\u001b[0m\u001b[0;34m\u001b[0m\u001b[0m\n\u001b[0m\u001b[1;32m    587\u001b[0m \u001b[0;34m\u001b[0m\u001b[0m\n\u001b[1;32m    588\u001b[0m \u001b[0;34m\u001b[0m\u001b[0m\n",
            "\u001b[0;32m/usr/local/lib/python3.8/dist-packages/pandas/io/parsers/readers.py\u001b[0m in \u001b[0;36m_read\u001b[0;34m(filepath_or_buffer, kwds)\u001b[0m\n\u001b[1;32m    486\u001b[0m \u001b[0;34m\u001b[0m\u001b[0m\n\u001b[1;32m    487\u001b[0m     \u001b[0;32mwith\u001b[0m \u001b[0mparser\u001b[0m\u001b[0;34m:\u001b[0m\u001b[0;34m\u001b[0m\u001b[0;34m\u001b[0m\u001b[0m\n\u001b[0;32m--> 488\u001b[0;31m         \u001b[0;32mreturn\u001b[0m \u001b[0mparser\u001b[0m\u001b[0;34m.\u001b[0m\u001b[0mread\u001b[0m\u001b[0;34m(\u001b[0m\u001b[0mnrows\u001b[0m\u001b[0;34m)\u001b[0m\u001b[0;34m\u001b[0m\u001b[0;34m\u001b[0m\u001b[0m\n\u001b[0m\u001b[1;32m    489\u001b[0m \u001b[0;34m\u001b[0m\u001b[0m\n\u001b[1;32m    490\u001b[0m \u001b[0;34m\u001b[0m\u001b[0m\n",
            "\u001b[0;32m/usr/local/lib/python3.8/dist-packages/pandas/io/parsers/readers.py\u001b[0m in \u001b[0;36mread\u001b[0;34m(self, nrows)\u001b[0m\n\u001b[1;32m   1045\u001b[0m     \u001b[0;32mdef\u001b[0m \u001b[0mread\u001b[0m\u001b[0;34m(\u001b[0m\u001b[0mself\u001b[0m\u001b[0;34m,\u001b[0m \u001b[0mnrows\u001b[0m\u001b[0;34m=\u001b[0m\u001b[0;32mNone\u001b[0m\u001b[0;34m)\u001b[0m\u001b[0;34m:\u001b[0m\u001b[0;34m\u001b[0m\u001b[0;34m\u001b[0m\u001b[0m\n\u001b[1;32m   1046\u001b[0m         \u001b[0mnrows\u001b[0m \u001b[0;34m=\u001b[0m \u001b[0mvalidate_integer\u001b[0m\u001b[0;34m(\u001b[0m\u001b[0;34m\"nrows\"\u001b[0m\u001b[0;34m,\u001b[0m \u001b[0mnrows\u001b[0m\u001b[0;34m)\u001b[0m\u001b[0;34m\u001b[0m\u001b[0;34m\u001b[0m\u001b[0m\n\u001b[0;32m-> 1047\u001b[0;31m         \u001b[0mindex\u001b[0m\u001b[0;34m,\u001b[0m \u001b[0mcolumns\u001b[0m\u001b[0;34m,\u001b[0m \u001b[0mcol_dict\u001b[0m \u001b[0;34m=\u001b[0m \u001b[0mself\u001b[0m\u001b[0;34m.\u001b[0m\u001b[0m_engine\u001b[0m\u001b[0;34m.\u001b[0m\u001b[0mread\u001b[0m\u001b[0;34m(\u001b[0m\u001b[0mnrows\u001b[0m\u001b[0;34m)\u001b[0m\u001b[0;34m\u001b[0m\u001b[0;34m\u001b[0m\u001b[0m\n\u001b[0m\u001b[1;32m   1048\u001b[0m \u001b[0;34m\u001b[0m\u001b[0m\n\u001b[1;32m   1049\u001b[0m         \u001b[0;32mif\u001b[0m \u001b[0mindex\u001b[0m \u001b[0;32mis\u001b[0m \u001b[0;32mNone\u001b[0m\u001b[0;34m:\u001b[0m\u001b[0;34m\u001b[0m\u001b[0;34m\u001b[0m\u001b[0m\n",
            "\u001b[0;32m/usr/local/lib/python3.8/dist-packages/pandas/io/parsers/c_parser_wrapper.py\u001b[0m in \u001b[0;36mread\u001b[0;34m(self, nrows)\u001b[0m\n\u001b[1;32m    222\u001b[0m         \u001b[0;32mtry\u001b[0m\u001b[0;34m:\u001b[0m\u001b[0;34m\u001b[0m\u001b[0;34m\u001b[0m\u001b[0m\n\u001b[1;32m    223\u001b[0m             \u001b[0;32mif\u001b[0m \u001b[0mself\u001b[0m\u001b[0;34m.\u001b[0m\u001b[0mlow_memory\u001b[0m\u001b[0;34m:\u001b[0m\u001b[0;34m\u001b[0m\u001b[0;34m\u001b[0m\u001b[0m\n\u001b[0;32m--> 224\u001b[0;31m                 \u001b[0mchunks\u001b[0m \u001b[0;34m=\u001b[0m \u001b[0mself\u001b[0m\u001b[0;34m.\u001b[0m\u001b[0m_reader\u001b[0m\u001b[0;34m.\u001b[0m\u001b[0mread_low_memory\u001b[0m\u001b[0;34m(\u001b[0m\u001b[0mnrows\u001b[0m\u001b[0;34m)\u001b[0m\u001b[0;34m\u001b[0m\u001b[0;34m\u001b[0m\u001b[0m\n\u001b[0m\u001b[1;32m    225\u001b[0m                 \u001b[0;31m# destructive to chunks\u001b[0m\u001b[0;34m\u001b[0m\u001b[0;34m\u001b[0m\u001b[0;34m\u001b[0m\u001b[0m\n\u001b[1;32m    226\u001b[0m                 \u001b[0mdata\u001b[0m \u001b[0;34m=\u001b[0m \u001b[0m_concatenate_chunks\u001b[0m\u001b[0;34m(\u001b[0m\u001b[0mchunks\u001b[0m\u001b[0;34m)\u001b[0m\u001b[0;34m\u001b[0m\u001b[0;34m\u001b[0m\u001b[0m\n",
            "\u001b[0;32m/usr/local/lib/python3.8/dist-packages/pandas/_libs/parsers.pyx\u001b[0m in \u001b[0;36mpandas._libs.parsers.TextReader.read_low_memory\u001b[0;34m()\u001b[0m\n",
            "\u001b[0;32m/usr/local/lib/python3.8/dist-packages/pandas/_libs/parsers.pyx\u001b[0m in \u001b[0;36mpandas._libs.parsers.TextReader._read_rows\u001b[0;34m()\u001b[0m\n",
            "\u001b[0;32m/usr/local/lib/python3.8/dist-packages/pandas/_libs/parsers.pyx\u001b[0m in \u001b[0;36mpandas._libs.parsers.TextReader._tokenize_rows\u001b[0;34m()\u001b[0m\n",
            "\u001b[0;32m/usr/local/lib/python3.8/dist-packages/pandas/_libs/parsers.pyx\u001b[0m in \u001b[0;36mpandas._libs.parsers.raise_parser_error\u001b[0;34m()\u001b[0m\n",
            "\u001b[0;31mUnicodeDecodeError\u001b[0m: 'utf-8' codec can't decode bytes in position 0-1: unexpected end of data"
          ]
        }
      ]
    },
    {
      "cell_type": "code",
      "source": [
        "def collate_fn(data):\n",
        "    data = tokenizer.batch_encode_plus(data,\n",
        "                                       padding=True,\n",
        "                                       truncation=True,\n",
        "                                       max_length=512,\n",
        "                                       return_tensors='pt')\n",
        "\n",
        "    data['labels'] = data['input_ids'].clone()\n",
        "\n",
        "    return data\n",
        "\n",
        "#数据加载器\n",
        "loader = torch.utils.data.DataLoader(\n",
        "    dataset=dataset,\n",
        "    batch_size=8,\n",
        "    collate_fn=collate_fn,\n",
        "    shuffle=True,\n",
        "    drop_last=True,\n",
        ")\n",
        "\n",
        "for i, data in enumerate(loader):\n",
        "    break\n",
        "\n",
        "for k, v in data.items():\n",
        "    print(k, v.shape)\n",
        "\n",
        "len(loader)"
      ],
      "metadata": {
        "colab": {
          "base_uri": "https://localhost:8080/"
        },
        "id": "jUQSVbeVFoDI",
        "outputId": "fd1f7fbe-2ad2-4357-e9eb-ccae3061e2ef"
      },
      "execution_count": null,
      "outputs": [
        {
          "output_type": "stream",
          "name": "stdout",
          "text": [
            "input_ids torch.Size([8, 26])\n",
            "token_type_ids torch.Size([8, 26])\n",
            "attention_mask torch.Size([8, 26])\n",
            "labels torch.Size([8, 26])\n"
          ]
        },
        {
          "output_type": "execute_result",
          "data": {
            "text/plain": [
              "687"
            ]
          },
          "metadata": {},
          "execution_count": 22
        }
      ]
    },
    {
      "cell_type": "code",
      "source": [
        "from transformers import AutoModelForCausalLM, GPT2Model\n",
        "\n",
        "#加载模型\n",
        "model = AutoModelForCausalLM.from_pretrained(\n",
        "    'uer/gpt2-chinese-cluecorpussmall')\n",
        "\n",
        "#统计参数量\n",
        "print(sum(i.numel() for i in model.parameters()) / 10000)\n",
        "\n",
        "with torch.no_grad():\n",
        "    out = model(**data)\n",
        "\n",
        "out['loss'], out['logits'].shape"
      ],
      "metadata": {
        "colab": {
          "base_uri": "https://localhost:8080/",
          "height": 85,
          "referenced_widgets": [
            "5858849deb154a4bacda11f268fe708b",
            "085022eeca4a4d1d8a4b700ebb36d9b6",
            "fc7dc044898d4ecb9ed18650bbb03b9d",
            "10191b2e1ae74e7ab21bcbb68920f5ac",
            "627485e394824ebab906d4c6a007de53",
            "af07fc333f6645df84bd1e46d623f38f",
            "bb334907991c4fdcb4b1e2acb687afe7",
            "78ae6deccc464762ae6afaeebbaf63c6",
            "ef19a62c432c45e3aa26ff55fcce1e10",
            "03a297fc8a7242259bce402bbf5ecc35",
            "19b72432ed7a47db9516601bc710f9f9"
          ]
        },
        "id": "pemqZp_LH--f",
        "outputId": "36ae511c-b44a-43b3-abf7-14df005bb439"
      },
      "execution_count": null,
      "outputs": [
        {
          "output_type": "display_data",
          "data": {
            "text/plain": [
              "Downloading:   0%|          | 0.00/421M [00:00<?, ?B/s]"
            ],
            "application/vnd.jupyter.widget-view+json": {
              "version_major": 2,
              "version_minor": 0,
              "model_id": "5858849deb154a4bacda11f268fe708b"
            }
          },
          "metadata": {}
        },
        {
          "output_type": "stream",
          "name": "stdout",
          "text": [
            "10206.8736\n"
          ]
        },
        {
          "output_type": "execute_result",
          "data": {
            "text/plain": [
              "(tensor(7.0028), torch.Size([8, 26, 21128]))"
            ]
          },
          "metadata": {},
          "execution_count": 23
        }
      ]
    },
    {
      "cell_type": "code",
      "source": [
        "def generate(text, row, col):\n",
        "\n",
        "    def generate_loop(data):\n",
        "        with torch.no_grad():\n",
        "            out = model(**data)\n",
        "\n",
        "        #取最后一个字\n",
        "        #[5, b, 50257]\n",
        "        out = out['logits']\n",
        "        #[5, 50257]\n",
        "        out = out[:, -1]\n",
        "\n",
        "        #第50大的值,以此为分界线,小于该值的全部赋值为负无穷\n",
        "        #[5, 50257] -> [5, 50]\n",
        "        topk_value = torch.topk(out, 50).values\n",
        "        #[5, 50] -> [5] -> [5, 1]\n",
        "        topk_value = topk_value[:, -1].unsqueeze(dim=1)\n",
        "\n",
        "        #赋值\n",
        "        #[5, 50257]\n",
        "        out = out.masked_fill(out < topk_value, -float('inf'))\n",
        "\n",
        "        #不允许写特殊符号\n",
        "        out[:, tokenizer.sep_token_id] = -float('inf')\n",
        "        out[:, tokenizer.unk_token_id] = -float('inf')\n",
        "        out[:, tokenizer.pad_token_id] = -float('inf')\n",
        "        for i in '，。':\n",
        "            out[:, tokenizer.get_vocab()[i]] = -float('inf')\n",
        "\n",
        "        #根据概率采样,无放回,所以不可能重复\n",
        "        #[5, 50257] -> [5, 1]\n",
        "        out = out.softmax(dim=1)\n",
        "        out = out.multinomial(num_samples=1)\n",
        "\n",
        "        #强制添加标点符号\n",
        "        c = data['input_ids'].shape[1] / (col + 1)\n",
        "        if c % 1 == 0:\n",
        "            if c % 2 == 0:\n",
        "                out[:, 0] = tokenizer.get_vocab()['。']\n",
        "            else:\n",
        "                out[:, 0] = tokenizer.get_vocab()['，']\n",
        "\n",
        "        data['input_ids'] = torch.cat([data['input_ids'], out], dim=1)\n",
        "        data['attention_mask'] = torch.ones_like(data['input_ids'])\n",
        "        data['token_type_ids'] = torch.zeros_like(data['input_ids'])\n",
        "        data['labels'] = data['input_ids'].clone()\n",
        "\n",
        "        if data['input_ids'].shape[1] >= row * col + row + 1:\n",
        "            return data\n",
        "\n",
        "        return generate_loop(data)\n",
        "\n",
        "    #重复5遍\n",
        "    data = tokenizer.batch_encode_plus([text] * 10, return_tensors='pt')\n",
        "    data['input_ids'] = data['input_ids'][:, :-1]\n",
        "    data['attention_mask'] = torch.ones_like(data['input_ids'])\n",
        "    data['token_type_ids'] = torch.zeros_like(data['input_ids'])\n",
        "    data['labels'] = data['input_ids'].clone()\n",
        "\n",
        "    data = generate_loop(data)\n",
        "\n",
        "    for i in range(10):\n",
        "        print(i, tokenizer.decode(data['input_ids'][i]))\n",
        "\n",
        "    print('Generated by AI')\n",
        "\n",
        "generate('兔年吉祥', row=4, col=5)\n"
      ],
      "metadata": {
        "colab": {
          "base_uri": "https://localhost:8080/"
        },
        "id": "YVGcTOrQH2ZA",
        "outputId": "f3325b71-dfa5-415c-d64d-5de8c62e4065"
      },
      "execution_count": null,
      "outputs": [
        {
          "output_type": "stream",
          "name": "stdout",
          "text": [
            "0 [CLS] 兔 年 吉 祥 庆 ， 江 苏 盐 城 人 。 清 朝 末 十 五 ， 著 名 通 判 刑 。\n",
            "1 [CLS] 兔 年 吉 祥 物 ， 出 自 《 古 罗 。 文 字 志 》 里 ， 作 者 是 兔 子 。\n",
            "2 [CLS] 兔 年 吉 祥 / ， 可 以 指 ： < 。 < onlyinclude ， \" < onlyincl 。\n",
            "3 [CLS] 兔 年 吉 祥 ： ， 又 称 兔 年 吉 。 是 日 食 性 动 ， 动 物 可 以 食 。\n",
            "4 [CLS] 兔 年 吉 祥 为 ， 是 日 本 动 画 。 原 创 作 品 的 ， 于 1997 年 于 台 。\n",
            "5 [CLS] 兔 年 吉 祥 物 ， 又 译 作 狸 年 。 猫 年 的 吉 祥 ， 是 在 公 元 2017 。\n",
            "6 [CLS] 兔 年 吉 祥 物 ， 又 称 兔 年 兔 。 兔 年 ： 日 本 ， 兔 年 ： 太 岁 。\n",
            "7 [CLS] 兔 年 吉 祥 物 ， 或 者 兔 年 吉 。 兔 年 又 称 兔 ， 本 年 兔 年 兔 。\n",
            "8 [CLS] 兔 年 吉 祥 物 ， 是 日 本 的 动 。 最 后 一 个 字 ， 是 兔 肉 的 意 。\n",
            "9 [CLS] 兔 年 吉 祥 物 ， 中 华 民 国 特 。 兔 年 吉 祥 物 ， 中 华 民 国 特 。\n",
            "Generated by AI\n"
          ]
        }
      ]
    },
    {
      "cell_type": "code",
      "source": [
        "from transformers import AdamW\n",
        "from transformers.optimization import get_scheduler\n",
        "\n",
        "\n",
        "#训练\n",
        "def train():\n",
        "    global model\n",
        "    device = 'cuda' if torch.cuda.is_available() else 'cpu'\n",
        "    model = model.to(device)\n",
        "\n",
        "    optimizer = AdamW(model.parameters(), lr=5e-5)\n",
        "    scheduler = get_scheduler(name='linear',\n",
        "                              num_warmup_steps=0,\n",
        "                              num_training_steps=len(loader),\n",
        "                              optimizer=optimizer)\n",
        "\n",
        "    model.train()\n",
        "    for i, data in enumerate(loader):\n",
        "        for k in data.keys():\n",
        "            data[k] = data[k].to(device)\n",
        "        out = model(**data)\n",
        "        loss = out['loss']\n",
        "\n",
        "        loss.backward()\n",
        "        torch.nn.utils.clip_grad_norm_(model.parameters(), 1.0)\n",
        "\n",
        "        optimizer.step()\n",
        "        scheduler.step()\n",
        "\n",
        "        optimizer.zero_grad()\n",
        "        model.zero_grad()\n",
        "\n",
        "        if i % 1000 == 0:\n",
        "            labels = data['labels'][:, 1:]\n",
        "            out = out['logits'].argmax(dim=2)[:, :-1]\n",
        "\n",
        "            select = labels != 0\n",
        "            labels = labels[select]\n",
        "            out = out[select]\n",
        "            del select\n",
        "\n",
        "            accuracy = (labels == out).sum().item() / labels.numel()\n",
        "\n",
        "            lr = optimizer.state_dict()['param_groups'][0]['lr']\n",
        "\n",
        "            print(i, loss.item(), lr, accuracy)\n",
        "\n",
        "    model = model.to('cpu')\n",
        "    torch.save(model, 'save.model')\n",
        "\n",
        "\n",
        "train()"
      ],
      "metadata": {
        "colab": {
          "base_uri": "https://localhost:8080/"
        },
        "id": "gkAZkytCGmHB",
        "outputId": "f59a36ef-f622-4a7f-d0dd-318549885eb5"
      },
      "execution_count": null,
      "outputs": [
        {
          "output_type": "stream",
          "name": "stderr",
          "text": [
            "/usr/local/lib/python3.8/dist-packages/transformers/optimization.py:306: FutureWarning: This implementation of AdamW is deprecated and will be removed in a future version. Use the PyTorch implementation torch.optim.AdamW instead, or set `no_deprecation_warning=True` to disable this warning\n",
            "  warnings.warn(\n"
          ]
        },
        {
          "output_type": "stream",
          "name": "stdout",
          "text": [
            "0 9.550468444824219 4.9927219796215426e-05 0.12931034482758622\n"
          ]
        }
      ]
    },
    {
      "cell_type": "code",
      "source": [
        "model = torch.load('save.model')\n",
        "\n",
        "generate('春', row = 1, col = 5)\n",
        "generate('节', row = 1, col = 5)\n",
        "generate('快', row = 1, col = 5)\n",
        "generate('乐', row = 1, col = 5)\n",
        "\n"
      ],
      "metadata": {
        "colab": {
          "base_uri": "https://localhost:8080/"
        },
        "id": "LgXfpFn5VLeK",
        "outputId": "80eb1ff3-0b7b-4e89-cf74-9079ae174b99"
      },
      "execution_count": null,
      "outputs": [
        {
          "output_type": "stream",
          "name": "stdout",
          "text": [
            "0 [CLS] 春 风 来 时 歌 ，\n",
            "1 [CLS] 春 风 不 见 远 ，\n",
            "2 [CLS] 春 风 落 白 云 ，\n",
            "3 [CLS] 春 夜 夜 去 归 ，\n",
            "4 [CLS] 春 色 入 清 风 ，\n",
            "5 [CLS] 春 光 白 云 露 ，\n",
            "6 [CLS] 春 风 拂 寒 雨 ，\n",
            "7 [CLS] 春 风 来 何 时 ，\n",
            "8 [CLS] 春 风 何 处 无 ，\n",
            "9 [CLS] 春 风 落 日 闲 ，\n",
            "Generated by AI\n",
            "0 [CLS] 节 钺 高 马 蹄 ，\n",
            "1 [CLS] 节 气 不 同 天 ，\n",
            "2 [CLS] 节 度 万 乘 光 ，\n",
            "3 [CLS] 节 日 歌 乐 相 ，\n",
            "4 [CLS] 节 逢 秋 水 相 ，\n",
            "5 [CLS] 节 气 不 动 光 ，\n",
            "6 [CLS] 节 节 不 如 天 ，\n",
            "7 [CLS] 节 奏 在 遥 夜 ，\n",
            "8 [CLS] 节 操 惊 云 气 ，\n",
            "9 [CLS] 节 气 在 西 游 ，\n",
            "Generated by AI\n",
            "0 [CLS] 快 哉 不 可 及 ，\n",
            "1 [CLS] 快 乐 自 顾 开 ，\n",
            "2 [CLS] 快 手 生 紫 微 ，\n",
            "3 [CLS] 快 意 为 花 色 ，\n",
            "4 [CLS] 快 速 行 乐 不 ，\n",
            "5 [CLS] 快 乐 不 成 飞 ，\n",
            "6 [CLS] 快 意 不 可 寻 ，\n",
            "7 [CLS] 快 发 银 鞍 马 ，\n",
            "8 [CLS] 快 哉 尔 自 嗟 ，\n",
            "9 [CLS] 快 来 我 相 邀 ，\n",
            "Generated by AI\n",
            "0 [CLS] 乐 如 玉 树 花 ，\n",
            "1 [CLS] 乐 天 不 应 见 ，\n",
            "2 [CLS] 乐 陵 万 里 人 ，\n",
            "3 [CLS] 乐 和 与 世 间 ，\n",
            "4 [CLS] 乐 不 可 知 日 ，\n",
            "5 [CLS] 乐 为 万 方 物 ，\n",
            "6 [CLS] 乐 为 一 杯 酒 ，\n",
            "7 [CLS] 乐 不 去 东 东 ，\n",
            "8 [CLS] 乐 于 见 君 游 ，\n",
            "9 [CLS] 乐 在 长 吟 君 ，\n",
            "Generated by AI\n"
          ]
        }
      ]
    }
  ]
}